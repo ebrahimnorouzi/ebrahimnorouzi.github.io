{
 "cells": [
  {
   "cell_type": "markdown",
   "metadata": {
    "deletable": true,
    "editable": true
   },
   "source": [
    "# Publications markdown generator for academicpages\n",
    "\n",
    "Takes a TSV of publications with metadata and converts them for use with [academicpages.github.io](academicpages.github.io). This is an interactive Jupyter notebook ([see more info here](http://jupyter-notebook-beginner-guide.readthedocs.io/en/latest/what_is_jupyter.html)). The core python code is also in `publications.py`. Run either from the `markdown_generator` folder after replacing `publications.tsv` with one containing your data.\n",
    "\n",
    "TODO: Make this work with BibTex and other databases of citations, rather than Stuart's non-standard TSV format and citation style.\n"
   ]
  },
  {
   "cell_type": "markdown",
   "metadata": {},
   "source": [
    "## Data format\n",
    "\n",
    "The TSV needs to have the following columns: pub_date, title, venue, excerpt, citation, site_url, and paper_url, with a header at the top. \n",
    "\n",
    "- `excerpt` and `paper_url` can be blank, but the others must have values. \n",
    "- `pub_date` must be formatted as YYYY-MM-DD.\n",
    "- `url_slug` will be the descriptive part of the .md file and the permalink URL for the page about the paper. The .md file will be `YYYY-MM-DD-[url_slug].md` and the permalink will be `https://[yourdomain]/publications/YYYY-MM-DD-[url_slug]`\n",
    "\n",
    "This is how the raw file looks (it doesn't look pretty, use a spreadsheet or other program to edit and create)."
   ]
  },
  {
   "cell_type": "code",
   "execution_count": 27,
   "metadata": {
    "collapsed": false
   },
   "outputs": [
    {
     "name": "stderr",
     "output_type": "stream",
     "text": [
      "'cat' is not recognized as an internal or external command,\n",
      "operable program or batch file.\n"
     ]
    }
   ],
   "source": [
    "!cat publications.tsv"
   ]
  },
  {
   "cell_type": "markdown",
   "metadata": {},
   "source": [
    "## Import pandas\n",
    "\n",
    "We are using the very handy pandas library for dataframes."
   ]
  },
  {
   "cell_type": "code",
   "execution_count": 28,
   "metadata": {
    "collapsed": true,
    "deletable": true,
    "editable": true
   },
   "outputs": [],
   "source": [
    "import pandas as pd"
   ]
  },
  {
   "cell_type": "markdown",
   "metadata": {},
   "source": [
    "## Import TSV\n",
    "\n",
    "Pandas makes this easy with the read_csv function. We are using a TSV, so we specify the separator as a tab, or `\\t`.\n",
    "\n",
    "I found it important to put this data in a tab-separated values format, because there are a lot of commas in this kind of data and comma-separated values can get messed up. However, you can modify the import statement, as pandas also has read_excel(), read_json(), and others."
   ]
  },
  {
   "cell_type": "code",
   "execution_count": 29,
   "metadata": {
    "collapsed": false,
    "deletable": true,
    "editable": true
   },
   "outputs": [
    {
     "data": {
      "text/html": [
       "<div>\n",
       "<style scoped>\n",
       "    .dataframe tbody tr th:only-of-type {\n",
       "        vertical-align: middle;\n",
       "    }\n",
       "\n",
       "    .dataframe tbody tr th {\n",
       "        vertical-align: top;\n",
       "    }\n",
       "\n",
       "    .dataframe thead th {\n",
       "        text-align: right;\n",
       "    }\n",
       "</style>\n",
       "<table border=\"1\" class=\"dataframe\">\n",
       "  <thead>\n",
       "    <tr style=\"text-align: right;\">\n",
       "      <th></th>\n",
       "      <th>pub_date</th>\n",
       "      <th>title</th>\n",
       "      <th>venue</th>\n",
       "      <th>excerpt</th>\n",
       "      <th>citation</th>\n",
       "      <th>url_slug</th>\n",
       "      <th>paper_url</th>\n",
       "    </tr>\n",
       "  </thead>\n",
       "  <tbody>\n",
       "    <tr>\n",
       "      <th>0</th>\n",
       "      <td>2024-08-12</td>\n",
       "      <td>The landscape of ontologies in materials scien...</td>\n",
       "      <td>SeMatS 2024 (International Workshop on Semanti...</td>\n",
       "      <td>This paper provides an overview of ontologies ...</td>\n",
       "      <td>E. Norouzi, J.Waitelonis, H. Sack. The landsca...</td>\n",
       "      <td>OE-MSE-SeMats-7</td>\n",
       "      <td>https://arxiv.org/abs/2408.06034</td>\n",
       "    </tr>\n",
       "    <tr>\n",
       "      <th>1</th>\n",
       "      <td>2024-04-29</td>\n",
       "      <td>OAEI Machine Learning Dataset for Online Model...</td>\n",
       "      <td>ESWC 2024 Poster</td>\n",
       "      <td>Ontology and knowledge graph matching systems ...</td>\n",
       "      <td>Hertling, S., Norouzi, E., &amp; Sack, H. (2024). ...</td>\n",
       "      <td>OAEI-ml-dataset-6</td>\n",
       "      <td>https://arxiv.org/abs/2404.18542</td>\n",
       "    </tr>\n",
       "    <tr>\n",
       "      <th>2</th>\n",
       "      <td>2023-03-21</td>\n",
       "      <td>Enhancing Entity Alignment Between Wikidata an...</td>\n",
       "      <td>International Joint Workshop on Semantic Web a...</td>\n",
       "      <td>This paper focuses on the Wikidata and A 𝑟𝑡 G ...</td>\n",
       "      <td>Lippolis, Anna Sofia et al. “Enhancing Entity ...</td>\n",
       "      <td>EA-Artgraph-llm-5</td>\n",
       "      <td>https://api.semanticscholar.org/CorpusID:26391...</td>\n",
       "    </tr>\n",
       "    <tr>\n",
       "      <th>3</th>\n",
       "      <td>2023-09-07</td>\n",
       "      <td>Knowledge Graph Based RDM Solutions: NFDI4Cult...</td>\n",
       "      <td>1st Conference on Research Data Infrastructure...</td>\n",
       "      <td>Based on our experience within the NFDI4Cultur...</td>\n",
       "      <td>Sack, H., Schrade, T., Bruns, O., Posthumus, E...</td>\n",
       "      <td>KG-base-RDM-cordi-4</td>\n",
       "      <td>https://doi.org/10.52825/cordi.v1i.371</td>\n",
       "    </tr>\n",
       "    <tr>\n",
       "      <th>4</th>\n",
       "      <td>2024-03-21</td>\n",
       "      <td>Data-Driven Accelerated Parameter Identificati...</td>\n",
       "      <td>Experimental Mechanics Journal</td>\n",
       "      <td>The objective of this paper is to assess the f...</td>\n",
       "      <td>Morand, L., Norouzi, E., Weber, M. et al. Data...</td>\n",
       "      <td>parameter-identification-relaxation-exp-mech-1</td>\n",
       "      <td>https://doi.org/10.1007/s11340-024-01057-x</td>\n",
       "    </tr>\n",
       "    <tr>\n",
       "      <th>5</th>\n",
       "      <td>2021-05-14</td>\n",
       "      <td>In situ correlation between metastable phase-t...</td>\n",
       "      <td>Nature Communications</td>\n",
       "      <td>In this work, the kinetic and chemical conditi...</td>\n",
       "      <td>Orava, J., Balachandran, S., Han, X. et al. In...</td>\n",
       "      <td>metallic-glass-nature-2</td>\n",
       "      <td>https://www.nature.com/articles/s41467-021-230...</td>\n",
       "    </tr>\n",
       "    <tr>\n",
       "      <th>6</th>\n",
       "      <td>2018-10-26</td>\n",
       "      <td>Optimizing Grain Selection Design in the Singl...</td>\n",
       "      <td>Crystal Research and Technology</td>\n",
       "      <td>An attempt is made to model the design of grai...</td>\n",
       "      <td>F. Sadeghi, A. Kermanpur, E. Norouzi, Crystal ...</td>\n",
       "      <td>single-crystal-grain-3</td>\n",
       "      <td>https://doi.org/10.1002/crat.201800108</td>\n",
       "    </tr>\n",
       "  </tbody>\n",
       "</table>\n",
       "</div>"
      ],
      "text/plain": [
       "     pub_date                                              title  \\\n",
       "0  2024-08-12  The landscape of ontologies in materials scien...   \n",
       "1  2024-04-29  OAEI Machine Learning Dataset for Online Model...   \n",
       "2  2023-03-21  Enhancing Entity Alignment Between Wikidata an...   \n",
       "3  2023-09-07  Knowledge Graph Based RDM Solutions: NFDI4Cult...   \n",
       "4  2024-03-21  Data-Driven Accelerated Parameter Identificati...   \n",
       "5  2021-05-14  In situ correlation between metastable phase-t...   \n",
       "6  2018-10-26  Optimizing Grain Selection Design in the Singl...   \n",
       "\n",
       "                                               venue  \\\n",
       "0  SeMatS 2024 (International Workshop on Semanti...   \n",
       "1                                   ESWC 2024 Poster   \n",
       "2  International Joint Workshop on Semantic Web a...   \n",
       "3  1st Conference on Research Data Infrastructure...   \n",
       "4                     Experimental Mechanics Journal   \n",
       "5                              Nature Communications   \n",
       "6                    Crystal Research and Technology   \n",
       "\n",
       "                                             excerpt  \\\n",
       "0  This paper provides an overview of ontologies ...   \n",
       "1  Ontology and knowledge graph matching systems ...   \n",
       "2  This paper focuses on the Wikidata and A 𝑟𝑡 G ...   \n",
       "3  Based on our experience within the NFDI4Cultur...   \n",
       "4  The objective of this paper is to assess the f...   \n",
       "5  In this work, the kinetic and chemical conditi...   \n",
       "6  An attempt is made to model the design of grai...   \n",
       "\n",
       "                                            citation  \\\n",
       "0  E. Norouzi, J.Waitelonis, H. Sack. The landsca...   \n",
       "1  Hertling, S., Norouzi, E., & Sack, H. (2024). ...   \n",
       "2  Lippolis, Anna Sofia et al. “Enhancing Entity ...   \n",
       "3  Sack, H., Schrade, T., Bruns, O., Posthumus, E...   \n",
       "4  Morand, L., Norouzi, E., Weber, M. et al. Data...   \n",
       "5  Orava, J., Balachandran, S., Han, X. et al. In...   \n",
       "6  F. Sadeghi, A. Kermanpur, E. Norouzi, Crystal ...   \n",
       "\n",
       "                                         url_slug  \\\n",
       "0                                 OE-MSE-SeMats-7   \n",
       "1                               OAEI-ml-dataset-6   \n",
       "2                               EA-Artgraph-llm-5   \n",
       "3                             KG-base-RDM-cordi-4   \n",
       "4  parameter-identification-relaxation-exp-mech-1   \n",
       "5                         metallic-glass-nature-2   \n",
       "6                          single-crystal-grain-3   \n",
       "\n",
       "                                           paper_url  \n",
       "0                   https://arxiv.org/abs/2408.06034  \n",
       "1                   https://arxiv.org/abs/2404.18542  \n",
       "2  https://api.semanticscholar.org/CorpusID:26391...  \n",
       "3             https://doi.org/10.52825/cordi.v1i.371  \n",
       "4         https://doi.org/10.1007/s11340-024-01057-x  \n",
       "5  https://www.nature.com/articles/s41467-021-230...  \n",
       "6             https://doi.org/10.1002/crat.201800108  "
      ]
     },
     "execution_count": 29,
     "metadata": {},
     "output_type": "execute_result"
    }
   ],
   "source": [
    "publications = pd.read_csv(\"publications.tsv\", sep=\"\\t\", header=0)\n",
    "publications\n"
   ]
  },
  {
   "cell_type": "markdown",
   "metadata": {},
   "source": [
    "## Escape special characters\n",
    "\n",
    "YAML is very picky about how it takes a valid string, so we are replacing single and double quotes (and ampersands) with their HTML encoded equivilents. This makes them look not so readable in raw format, but they are parsed and rendered nicely."
   ]
  },
  {
   "cell_type": "code",
   "execution_count": 30,
   "metadata": {
    "collapsed": true,
    "deletable": true,
    "editable": true
   },
   "outputs": [],
   "source": [
    "html_escape_table = {\n",
    "    \"&\": \"&amp;\",\n",
    "    '\"': \"&quot;\",\n",
    "    \"'\": \"&apos;\"\n",
    "    }\n",
    "\n",
    "def html_escape(text):\n",
    "    \"\"\"Produce entities within text.\"\"\"\n",
    "    return \"\".join(html_escape_table.get(c,c) for c in text)"
   ]
  },
  {
   "cell_type": "markdown",
   "metadata": {},
   "source": [
    "## Creating the markdown files\n",
    "\n",
    "This is where the heavy lifting is done. This loops through all the rows in the TSV dataframe, then starts to concatentate a big string (```md```) that contains the markdown for each type. It does the YAML metadata first, then does the description for the individual page."
   ]
  },
  {
   "cell_type": "code",
   "execution_count": 31,
   "metadata": {
    "collapsed": false,
    "deletable": true,
    "editable": true
   },
   "outputs": [],
   "source": [
    "import os\n",
    "for row, item in publications.iterrows():\n",
    "    \n",
    "    md_filename = str(item.pub_date) + \"-\" + item.url_slug + \".md\"\n",
    "    html_filename = str(item.pub_date) + \"-\" + item.url_slug\n",
    "    year = item.pub_date[:4]\n",
    "    \n",
    "    ## YAML variables\n",
    "    \n",
    "    md = \"---\\ntitle: \\\"\"   + item.title + '\"\\n'\n",
    "    \n",
    "    md += \"\"\"collection: publications\"\"\"\n",
    "    \n",
    "    md += \"\"\"\\npermalink: /publication/\"\"\" + html_filename\n",
    "    \n",
    "    if len(str(item.excerpt)) > 5:\n",
    "        md += \"\\nexcerpt: '\" + html_escape(item.excerpt) + \"'\"\n",
    "    \n",
    "    md += \"\\ndate: \" + str(item.pub_date) \n",
    "    \n",
    "    md += \"\\nvenue: '\" + html_escape(item.venue) + \"'\"\n",
    "    \n",
    "    if len(str(item.paper_url)) > 5:\n",
    "        md += \"\\npaperurl: '\" + item.paper_url + \"'\"\n",
    "    \n",
    "    md += \"\\ncitation: '\" + html_escape(item.citation) + \"'\"\n",
    "    \n",
    "    md += \"\\n---\"\n",
    "    \n",
    "    ## Markdown description for individual page\n",
    "        \n",
    "    if len(str(item.excerpt)) > 5:\n",
    "        md += \"\\n\" + html_escape(item.excerpt) + \"\\n\"\n",
    "    \n",
    "    if len(str(item.paper_url)) > 5:\n",
    "        md += \"\\n[Download paper here](\" + item.paper_url + \")\\n\" \n",
    "        \n",
    "    md += \"\\nRecommended citation: \" + item.citation\n",
    "    \n",
    "    md_filename = os.path.basename(md_filename)\n",
    "       \n",
    "    with open(\"../_publications/\" + md_filename, 'w', encoding='utf-8') as f:\n",
    "        f.write(md)"
   ]
  },
  {
   "cell_type": "markdown",
   "metadata": {},
   "source": [
    "These files are in the publications directory, one directory below where we're working from."
   ]
  },
  {
   "cell_type": "code",
   "execution_count": 32,
   "metadata": {
    "collapsed": false,
    "deletable": true,
    "editable": true
   },
   "outputs": [
    {
     "name": "stderr",
     "output_type": "stream",
     "text": [
      "'ls' is not recognized as an internal or external command,\n",
      "operable program or batch file.\n"
     ]
    }
   ],
   "source": [
    "!ls ../_publications/"
   ]
  },
  {
   "cell_type": "code",
   "execution_count": 33,
   "metadata": {
    "collapsed": false,
    "deletable": true,
    "editable": true
   },
   "outputs": [
    {
     "name": "stderr",
     "output_type": "stream",
     "text": [
      "'cat' is not recognized as an internal or external command,\n",
      "operable program or batch file.\n"
     ]
    }
   ],
   "source": [
    "!cat ../_publications/2009-10-01-paper-title-number-1.md"
   ]
  },
  {
   "cell_type": "code",
   "execution_count": null,
   "metadata": {
    "collapsed": true,
    "deletable": true,
    "editable": true
   },
   "outputs": [],
   "source": []
  }
 ],
 "metadata": {
  "kernelspec": {
   "display_name": "Python 3.10.11 64-bit (microsoft store)",
   "language": "python",
   "name": "python3"
  },
  "language_info": {
   "codemirror_mode": {
    "name": "ipython",
    "version": 3
   },
   "file_extension": ".py",
   "mimetype": "text/x-python",
   "name": "python",
   "nbconvert_exporter": "python",
   "pygments_lexer": "ipython3",
   "version": "3.10.11"
  },
  "vscode": {
   "interpreter": {
    "hash": "372ad118f81acd4222add26895f13bc27a937b9d5021100e967f342fe93795e5"
   }
  }
 },
 "nbformat": 4,
 "nbformat_minor": 0
}
